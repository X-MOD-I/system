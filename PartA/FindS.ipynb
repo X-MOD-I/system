{
  "nbformat": 4,
  "nbformat_minor": 0,
  "metadata": {
    "colab": {
      "name": "FindS.ipynb",
      "provenance": [],
      "collapsed_sections": []
    },
    "kernelspec": {
      "name": "python3",
      "display_name": "Python 3"
    }
  },
  "cells": [
    {
      "cell_type": "code",
      "metadata": {
        "id": "KtKxquLpIaiM"
      },
      "source": [
        "import csv\r\n",
        "import numpy as np\r\n",
        "with open('Enjoy-sport.csv','r') as f:\r\n",
        "  reader=csv.reader(f)\r\n",
        "  data=list(reader)\r\n",
        "print(data)\r\n",
        "\r\n",
        "d=np.array(data)[:,:-1]\r\n",
        "print(\"attributes are\",d)\r\n",
        "\r\n",
        "h=['0','0','0','0','0','0']\r\n",
        "\r\n",
        "for row in data:\r\n",
        "  if row[-1]=='yes':\r\n",
        "    j=0\r\n",
        "\r\n",
        "    for col in row:\r\n",
        "      if col !='yes':\r\n",
        "        if col!=h[j] and h[j]=='0':\r\n",
        "          h[j]=col\r\n",
        "        elif col!=h[j] and h[j]!='0':\r\n",
        "          h[j]='?'\r\n",
        "      j=j+1\r\n",
        "print(\"maximal hypo\",h)\r\n",
        "\r\n",
        "\r\n"
      ],
      "execution_count": null,
      "outputs": []
    }
  ]
}