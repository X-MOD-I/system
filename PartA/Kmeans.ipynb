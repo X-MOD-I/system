{
  "nbformat": 4,
  "nbformat_minor": 0,
  "metadata": {
    "colab": {
      "name": "Kmeans.ipynb",
      "provenance": [],
      "collapsed_sections": []
    },
    "kernelspec": {
      "name": "python3",
      "display_name": "Python 3"
    }
  },
  "cells": [
    {
      "cell_type": "code",
      "metadata": {
        "id": "_cDL8O0VnD35",
        "colab": {
          "base_uri": "https://localhost:8080/"
        },
        "outputId": "aaea357a-7207-4d4f-f9eb-cf8f6d4d727c"
      },
      "source": [
        "import numpy as np\r\n",
        "import pandas as pd\r\n",
        "from copy import deepcopy\r\n",
        "\r\n",
        "\r\n",
        "def euclidean(a,b, ax=1):\r\n",
        "    return np.linalg.norm(a-b, axis=ax)\r\n",
        "\r\n",
        "def main():\r\n",
        "    k = 3\r\n",
        "    X = pd.read_csv('kmeans.csv')\r\n",
        "    print(X)\r\n",
        "\r\n",
        "    x1 = X['X1'].values\r\n",
        "    x2 = X['X2'].values\r\n",
        "    X = np.array(list(zip(x1, x2)))\r\n",
        "    print(X)\r\n",
        "    C_x = [6.2, 6.6 ,6.5]\r\n",
        "    C_y = [3.2, 3.7, 3.0]\r\n",
        "    Centroid = np.array(list(zip(C_x, C_y)), dtype=np.float32)\r\n",
        "    print(\"Initial Centroids\")\r\n",
        "    print(Centroid)\r\n",
        "    print(Centroid.shape)\r\n",
        "\r\n",
        "    Centroid_old = np.zeros(Centroid.shape)\r\n",
        "    print(Centroid_old)\r\n",
        "    clusters = np.zeros(len(X))\r\n",
        "    print(clusters)\r\n",
        "    error = euclidean(Centroid, Centroid_old, None)\r\n",
        "    print(error)\r\n",
        "    iterr = 0\r\n",
        "    while error != 0:\r\n",
        "        iterr = iterr + 1\r\n",
        "        for i in range(len(X)):\r\n",
        "            distances = euclidean(X[i], Centroid)\r\n",
        "            cluster = np.argmin(distances)#minimum modulus value\r\n",
        "            clusters[i] = cluster\r\n",
        "\r\n",
        "        Centroid_old = deepcopy(Centroid)\r\n",
        "        \r\n",
        "        for p in range(k):#cluster 0,1,2\r\n",
        "            points = [X[j] for j in range(len(X)) if clusters[j] == p]\r\n",
        "            Centroid[p] = np.mean(points, axis=0)\r\n",
        "        print(\" Centre of the clusters after \", iterr,\" Iteration \\n\", Centroid)\r\n",
        "        error = euclidean(Centroid, Centroid_old, None)\r\n",
        "        print(\"Error  ... \",error)  \r\n",
        "    \r\n",
        "\r\n",
        "if __name__ == \"__main__\": \r\n",
        "    main()\r\n",
        "\r\n",
        "\r\n"
      ],
      "execution_count": null,
      "outputs": [
        {
          "output_type": "stream",
          "text": [
            "    X1   X2\n",
            "0  5.9  3.2\n",
            "1  4.6  2.9\n",
            "2  6.2  2.8\n",
            "3  4.7  3.2\n",
            "4  5.5  4.2\n",
            "5  5.0  3.0\n",
            "6  4.9  3.1\n",
            "7  6.7  3.1\n",
            "8  5.1  3.8\n",
            "9  6.0  3.0\n",
            "[[5.9 3.2]\n",
            " [4.6 2.9]\n",
            " [6.2 2.8]\n",
            " [4.7 3.2]\n",
            " [5.5 4.2]\n",
            " [5.  3. ]\n",
            " [4.9 3.1]\n",
            " [6.7 3.1]\n",
            " [5.1 3.8]\n",
            " [6.  3. ]]\n",
            "Initial Centroids\n",
            "[[6.2 3.2]\n",
            " [6.6 3.7]\n",
            " [6.5 3. ]]\n",
            "(3, 2)\n",
            "[[0. 0.]\n",
            " [0. 0.]\n",
            " [0. 0.]]\n",
            "[0. 0. 0. 0. 0. 0. 0. 0. 0. 0.]\n",
            "12.537144692236463\n",
            " Centre of the clusters after  1  Iteration \n",
            " [[5.1714287 3.1714287]\n",
            " [5.5       4.2      ]\n",
            " [6.45      2.95     ]]\n",
            "Error  ...  1.5886391\n",
            " Centre of the clusters after  2  Iteration \n",
            " [[4.8   3.05 ]\n",
            " [5.3   4.   ]\n",
            " [6.2   3.025]]\n",
            "Error  ...  0.5484787\n",
            " Centre of the clusters after  3  Iteration \n",
            " [[4.8   3.05 ]\n",
            " [5.3   4.   ]\n",
            " [6.2   3.025]]\n",
            "Error  ...  0.0\n"
          ],
          "name": "stdout"
        }
      ]
    },
    {
      "cell_type": "code",
      "metadata": {
        "id": "8Yw2WXzWjqcE"
      },
      "source": [
        ""
      ],
      "execution_count": null,
      "outputs": []
    }
  ]
}