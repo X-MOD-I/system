{
  "nbformat": 4,
  "nbformat_minor": 0,
  "metadata": {
    "colab": {
      "name": "LinearRegression.ipynb",
      "provenance": [],
      "collapsed_sections": []
    },
    "kernelspec": {
      "name": "python3",
      "display_name": "Python 3"
    }
  },
  "cells": [
    {
      "cell_type": "code",
      "metadata": {
        "colab": {
          "base_uri": "https://localhost:8080/",
          "height": 297
        },
        "id": "qV78-S2rzcTJ",
        "outputId": "880e31d9-00ff-42a3-ef37-e35400501274"
      },
      "source": [
        "import numpy as np\r\n",
        "import pandas as pd\r\n",
        "import matplotlib.pyplot as plt \r\n",
        "  \r\n",
        "\r\n",
        "dataset = pd.read_csv('Food-Truck-LineReg.csv')\r\n",
        "\r\n",
        "x = dataset.iloc[:,0]\r\n",
        "x = np.array(x)\r\n",
        "y = dataset.iloc[:,1]\r\n",
        "y = np.array(y)\r\n",
        "\r\n",
        "n = np.size(x)\r\n",
        "\r\n",
        "m_x, m_y = np.mean(x), np.mean(y)\r\n",
        "\r\n",
        "SS_xy = np.sum(y*x) - n*m_y*m_x\r\n",
        "SS_xx = np.sum(x*x) - n*m_x*m_x\r\n",
        "\r\n",
        "b_1 = SS_xy / SS_xx\r\n",
        "b_0 = m_y - b_1*m_x\r\n",
        "\r\n",
        "print(\"Estimated coefficients: b_0 = {} b_1 = {}\".format(b_0, b_1))\r\n",
        "\r\n",
        "plt.scatter(x, y, color=\"m\",marker=\"o\", s=30)\r\n",
        "\r\n",
        "y_pred = b_0 + b_1*x\r\n",
        "\r\n",
        "plt.plot(x, y_pred, color=\"g\")\r\n",
        "\r\n",
        "plt.xlabel('x')\r\n",
        "plt.ylabel('y')\r\n",
        "\r\n",
        "plt.show()\r\n",
        "\r\n",
        "  \r\n",
        "\r\n"
      ],
      "execution_count": null,
      "outputs": [
        {
          "output_type": "stream",
          "text": [
            "Estimated coefficients: b_0 = -4.211504005424091 b_1 = 1.2135472539083587\n"
          ],
          "name": "stdout"
        },
        {
          "output_type": "display_data",
          "data": {
            "image/png": "[encoded data removed]",
            "text/plain": [
              "<Figure size 432x288 with 1 Axes>"
            ]
          },
          "metadata": {
            "tags": [],
            "needs_background": "light"
          }
        }
      ]
    },
    {
      "cell_type": "code",
      "metadata": {
        "id": "la0dNyikBUd0"
      },
      "source": [
        ""
      ],
      "execution_count": null,
      "outputs": []
    }
  ]
}