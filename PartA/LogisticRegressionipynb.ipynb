{
  "nbformat": 4,
  "nbformat_minor": 0,
  "metadata": {
    "colab": {
      "name": "LogisticRegressionipynb",
      "provenance": [],
      "collapsed_sections": []
    },
    "kernelspec": {
      "name": "python3",
      "display_name": "Python 3"
    }
  },
  "cells": [
    {
      "cell_type": "code",
      "metadata": {
        "colab": {
          "base_uri": "https://localhost:8080/"
        },
        "id": "3FqD0IEWzyoE",
        "outputId": "996e9803-f9c3-4dc1-8faa-68043b693ff0"
      },
      "source": [
        "import pandas as pd#data manipulation,data preparation\r\n",
        "import numpy as np#numerical or arithematic operation on numbers and arrays\r\n",
        "import matplotlib.pyplot as plt\r\n",
        "from sklearn.model_selection import train_test_split\r\n",
        "from sklearn.linear_model import LogisticRegression\r\n",
        "from sklearn.metrics import classification_report\r\n",
        "from sklearn.metrics import confusion_matrix,accuracy_score,mean_squared_error,mean_absolute_error\r\n",
        " \r\n",
        "\r\n",
        "df = pd.read_csv('Student-University-logistic.csv')\r\n",
        "\r\n",
        "x = df.iloc[:,:-1]\r\n",
        "y = df.iloc[:,-1]\r\n",
        "\r\n",
        "x_train, x_test, y_train, y_test = train_test_split(x, y, test_size=0.33, random_state=1)\r\n",
        "\r\n",
        "lr = LogisticRegression()\r\n",
        "lr.fit(x_train, y_train)\r\n",
        " \r\n",
        "predictions = lr.predict(x_test)\r\n",
        "print(classification_report(y_test, predictions))\r\n",
        "print(confusion_matrix(y_test, predictions))\r\n",
        "print(accuracy_score(y_test, predictions))#Accuracy\r\n",
        "print(mean_squared_error(y_test, predictions))#MSE  \r\n",
        "print(mean_squared_error(y_test, predictions,squared =False))#RMSE\r\n",
        "print(mean_absolute_error(y_test, predictions))#MAE\r\n"
      ],
      "execution_count": null,
      "outputs": [
        {
          "output_type": "stream",
          "text": [
            "              precision    recall  f1-score   support\n",
            "\n",
            "           0       1.00      0.88      0.93        16\n",
            "           1       0.89      1.00      0.94        17\n",
            "\n",
            "    accuracy                           0.94        33\n",
            "   macro avg       0.95      0.94      0.94        33\n",
            "weighted avg       0.95      0.94      0.94        33\n",
            "\n",
            "[[14  2]\n",
            " [ 0 17]]\n",
            "0.9393939393939394\n",
            "0.06060606060606061\n",
            "0.24618298195866548\n",
            "0.06060606060606061\n"
          ],
          "name": "stdout"
        }
      ]
    }
  ]
}