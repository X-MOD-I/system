{
  "nbformat": 4,
  "nbformat_minor": 0,
  "metadata": {
    "colab": {
      "name": "CandidateElimination.ipynb",
      "provenance": [],
      "collapsed_sections": []
    },
    "kernelspec": {
      "name": "python3",
      "display_name": "Python 3"
    }
  },
  "cells": [
    {
      "cell_type": "code",
      "metadata": {
        "colab": {
          "base_uri": "https://localhost:8080/"
        },
        "id": "kceSRJsKq9Ko",
        "outputId": "42a719cf-d741-40a3-8bf1-4ed6819f8449"
      },
      "source": [
        "import numpy as np \r\n",
        "import pandas as pd \r\n",
        "data = pd.DataFrame(data=pd.read_csv('Enjoy-sport.csv')) \r\n",
        "concepts = np.array(data.iloc[:,0:-1])\r\n",
        "print(concepts) \r\n",
        "target = np.array(data.iloc[:,-1])  \r\n",
        "print(target)\r\n",
        "def learn(concepts, target): \r\n",
        "    specific_h = concepts[0].copy()     \r\n",
        "    print(\"initialization of specific_h and general_h\")     \r\n",
        "    #print(specific_h)  \r\n",
        "    general_h = [[\"?\" for i in range(len(specific_h))] for i in range(len(specific_h))]     \r\n",
        "    #print(general_h)  \r\n",
        "    for i, h in enumerate(concepts): \r\n",
        "        if target[i] == \"yes\": \r\n",
        "            for x in range(len(specific_h)): \r\n",
        "                if h[x]!= specific_h[x]:                    \r\n",
        "                    specific_h[x] ='?'                     \r\n",
        "                    general_h[x][x] ='?'\r\n",
        "                #print(specific_h)\r\n",
        "        print(specific_h)\r\n",
        "        if target[i] == \"no\":            \r\n",
        "            for x in range(len(specific_h)): \r\n",
        "                if h[x]!= specific_h[x]:                    \r\n",
        "                    general_h[x][x] = specific_h[x]                \r\n",
        "                else:                    \r\n",
        "                    general_h[x][x] = '?'        \r\n",
        "        print(\" steps of Candidate Elimination Algorithm\",i+1)        \r\n",
        "        #print(specific_h)         \r\n",
        "        #print(general_h)  \r\n",
        "    indices = [i for i, val in enumerate(general_h) if val == ['?', '?', '?', '?', '?', '?']]    \r\n",
        "    for i in indices:   \r\n",
        "        general_h.remove(['?', '?', '?', '?', '?', '?']) \r\n",
        "    return specific_h, general_h \r\n",
        "s_final, g_final = learn(concepts, target)\r\n",
        "print(\"Final Specific_h:\", s_final, \"\\n\")\r\n",
        "print(\"Final General_h:\", g_final, \"\\n\") \r\n"
      ],
      "execution_count": 6,
      "outputs": [
        {
          "output_type": "stream",
          "text": [
            "[['sunny' 'warm' 'normal' 'strong' 'warm' 'same']\n",
            " ['sunny' 'warm' 'high' 'strong' 'warm' 'same']\n",
            " ['rainy' 'cold' 'high' 'strong' 'warm' 'change']\n",
            " ['sunny' 'warm' 'high' 'strong' 'cool' 'change']]\n",
            "['yes' 'yes' 'no' 'yes']\n",
            "initialization of specific_h and general_h\n",
            "['sunny' 'warm' 'normal' 'strong' 'warm' 'same']\n",
            " steps of Candidate Elimination Algorithm 1\n",
            "['sunny' 'warm' '?' 'strong' 'warm' 'same']\n",
            " steps of Candidate Elimination Algorithm 2\n",
            "['sunny' 'warm' '?' 'strong' 'warm' 'same']\n",
            " steps of Candidate Elimination Algorithm 3\n",
            "['sunny' 'warm' '?' 'strong' '?' '?']\n",
            " steps of Candidate Elimination Algorithm 4\n",
            "Final Specific_h: ['sunny' 'warm' '?' 'strong' '?' '?'] \n",
            "\n",
            "Final General_h: [['sunny', '?', '?', '?', '?', '?'], ['?', 'warm', '?', '?', '?', '?']] \n",
            "\n"
          ],
          "name": "stdout"
        }
      ]
    }
  ]
}