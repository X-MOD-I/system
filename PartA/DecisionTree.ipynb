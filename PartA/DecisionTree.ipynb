{
  "nbformat": 4,
  "nbformat_minor": 0,
  "metadata": {
    "colab": {
      "name": "DecisionTree.ipynb",
      "provenance": [],
      "collapsed_sections": []
    },
    "kernelspec": {
      "name": "python3",
      "display_name": "Python 3"
    }
  },
  "cells": [
    {
      "cell_type": "code",
      "metadata": {
        "colab": {
          "base_uri": "https://localhost:8080/"
        },
        "id": "89MjWi1cXMvK",
        "outputId": "3f2bf9ed-46f8-4b07-df44-7ec082078cdb"
      },
      "source": [
        "from sklearn.tree import DecisionTreeClassifier\r\n",
        "import pandas as pd\r\n",
        "import numpy as np\r\n",
        "from sklearn import metrics\r\n",
        "from sklearn.metrics import confusion_matrix\r\n",
        "from sklearn.tree import export_graphviz\r\n",
        "import graphviz\r\n",
        "\r\n",
        "dataset = pd.read_csv('zoo_data.csv')\r\n",
        "\r\n",
        "x_train = dataset.iloc[:80,:-1]\r\n",
        "x_test = dataset.iloc[80:,:-1]\r\n",
        "y_train = dataset.iloc[:80,-1]\r\n",
        "y_test = dataset.iloc[80:,-1]\r\n",
        "\r\n",
        "tree1 = DecisionTreeClassifier(criterion = 'entropy').fit(x_train,y_train)\r\n",
        "export_graphviz(tree1, out_file=\"mytree.dot\")\r\n",
        "with open(\"mytree.dot\") as f:\r\n",
        "    dot_graph = f.read()\r\n",
        "graphviz.Source(dot_graph)\r\n",
        "\r\n",
        "\r\n",
        "prediction = tree1.predict(x_test)\r\n",
        "cm = confusion_matrix(y_test, prediction)\r\n",
        "print(cm)\r\n",
        "FP = cm.sum(axis=0) - np.diag(cm)\r\n",
        "FN = cm.sum(axis=1) - np.diag(cm)\r\n",
        "TP = np.diag(cm)\r\n",
        "TN = cm.sum() - (FP + FN + TP)\r\n",
        "print('False Positives\\n {}'.format(FP))\r\n",
        "print('False Negatives\\n {}'.format(FN))\r\n",
        "print('True Positives\\n {}'.format(TP))\r\n",
        "print('True Negatives\\n {}'.format(TN))\r\n",
        "TPR = TP/(TP+FN)\r\n",
        "print('Sensitivity \\n {}'.format(TPR))\r\n",
        "TNR = TN/(TN+FP)\r\n",
        "print('Specificity \\n {}'.format(TNR))\r\n",
        "Precision = TP/(TP+FP)\r\n",
        "print('Precision \\n {}'.format(Precision))\r\n",
        "Recall = TP/(TP+FN)\r\n",
        "print('Recall \\n {}'.format(Recall))\r\n",
        "Acc = (TP+TN)/(TP+TN+FP+FN)\r\n",
        "print('Áccuracy \\n{}'.format(Acc))\r\n",
        "Fscore = 2*((Precision*Recall)/(Precision+Recall))\r\n",
        "print('FScore \\n{}'.format(Fscore))"
      ],
      "execution_count": null,
      "outputs": [
        {
          "output_type": "stream",
          "text": [
            "[[5 0 0 0 0 0 0]\n",
            " [0 4 0 0 0 0 0]\n",
            " [0 0 0 0 1 0 1]\n",
            " [0 0 0 3 0 0 0]\n",
            " [0 0 0 0 1 0 0]\n",
            " [0 0 0 0 0 2 0]\n",
            " [0 0 0 0 0 2 1]]\n",
            "False Positives\n",
            " [0 0 0 0 1 2 1]\n",
            "False Negatives\n",
            " [0 0 2 0 0 0 2]\n",
            "True Positives\n",
            " [5 4 0 3 1 2 1]\n",
            "True Negatives\n",
            " [15 16 18 17 18 16 16]\n",
            "Sensitivity \n",
            " [1.         1.         0.         1.         1.         1.\n",
            " 0.33333333]\n",
            "Specificity \n",
            " [1.         1.         1.         1.         0.94736842 0.88888889\n",
            " 0.94117647]\n",
            "Precision \n",
            " [1.  1.  nan 1.  0.5 0.5 0.5]\n",
            "Recall \n",
            " [1.         1.         0.         1.         1.         1.\n",
            " 0.33333333]\n",
            "Áccuracy \n",
            "[1.   1.   0.9  1.   0.95 0.9  0.85]\n",
            "FScore \n",
            "[1.         1.                nan 1.         0.66666667 0.66666667\n",
            " 0.4       ]\n"
          ],
          "name": "stdout"
        },
        {
          "output_type": "stream",
          "text": [
            "/usr/local/lib/python3.7/dist-packages/ipykernel_launcher.py:60: RuntimeWarning: invalid value encountered in true_divide\n"
          ],
          "name": "stderr"
        }
      ]
    }
  ]
}