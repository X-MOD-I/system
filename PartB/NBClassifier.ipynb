{
  "nbformat": 4,
  "nbformat_minor": 0,
  "metadata": {
    "colab": {
      "name": "NBClassifier.ipynb",
      "provenance": [],
      "collapsed_sections": []
    },
    "kernelspec": {
      "name": "python3",
      "display_name": "Python 3"
    }
  },
  "cells": [
    {
      "cell_type": "code",
      "metadata": {
        "colab": {
          "base_uri": "https://localhost:8080/"
        },
        "id": "pIZYdx2B-YGE",
        "outputId": "2e635e57-342b-4aac-cae4-0fae4f9f962e"
      },
      "source": [
        "import pandas as pd\r\n",
        "from sklearn.model_selection import train_test_split\r\n",
        "from sklearn.naive_bayes import GaussianNB\r\n",
        "from sklearn.metrics import classification_report\r\n",
        "from sklearn.metrics import confusion_matrix,accuracy_score,mean_squared_error,mean_absolute_error\r\n",
        "\r\n",
        "df = pd.read_csv(\"data.csv\")\r\n",
        "x = df.iloc[:,:-1]\r\n",
        "y = df.iloc[:,-1]\r\n",
        "x_train, x_test, y_train, y_test = train_test_split(x, y, test_size=0.33, random_state=1)\r\n",
        "\r\n",
        "gnb = GaussianNB()\r\n",
        "gnb.fit(x_train, y_train)\r\n",
        " \r\n",
        "predictions = gnb.predict(x_test)\r\n",
        "print(classification_report(y_test, predictions))\r\n",
        "print(confusion_matrix(y_test, predictions))\r\n",
        "print(accuracy_score(y_test, predictions))#Accuracy\r\n",
        "print(mean_squared_error(y_test, predictions))#MSE  \r\n",
        "print(mean_squared_error(y_test, predictions,squared =False))#RMSE\r\n",
        "print(mean_absolute_error(y_test, predictions))#MAE"
      ],
      "execution_count": null,
      "outputs": [
        {
          "output_type": "stream",
          "text": [
            "              precision    recall  f1-score   support\n",
            "\n",
            "           1       0.58      0.42      0.49        26\n",
            "           2       0.74      0.88      0.80        32\n",
            "           3       0.81      0.84      0.82        50\n",
            "           4       0.76      0.90      0.82        41\n",
            "           5       0.78      0.76      0.77        78\n",
            "           6       0.87      0.77      0.82        61\n",
            "\n",
            "    accuracy                           0.78       288\n",
            "   macro avg       0.75      0.76      0.75       288\n",
            "weighted avg       0.78      0.78      0.77       288\n",
            "\n",
            "[[11  8  0  0  7  0]\n",
            " [ 3 28  0  0  0  1]\n",
            " [ 0  0 42  0  8  0]\n",
            " [ 0  0  0 37  0  4]\n",
            " [ 5  0 10  2 59  2]\n",
            " [ 0  2  0 10  2 47]]\n",
            "0.7777777777777778\n",
            "1.3368055555555556\n",
            "1.1562030771259673\n",
            "0.4895833333333333\n"
          ],
          "name": "stdout"
        }
      ]
    }
  ]
}