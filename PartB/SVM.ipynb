{
  "nbformat": 4,
  "nbformat_minor": 0,
  "metadata": {
    "colab": {
      "name": "SVM.ipynb",
      "provenance": [],
      "collapsed_sections": []
    },
    "kernelspec": {
      "name": "python3",
      "display_name": "Python 3"
    }
  },
  "cells": [
    {
      "cell_type": "code",
      "metadata": {
        "id": "HnPZrnhHZRfO"
      },
      "source": [
        "import pandas as pd\r\n",
        "import numpy as np\r\n",
        "import matplotlib.pyplot as plt\r\n",
        "from sklearn.model_selection import train_test_split \r\n",
        "from sklearn import svm\r\n",
        "from sklearn.metrics import classification_report\r\n",
        "from sklearn.metrics import confusion_matrix,accuracy_score,mean_squared_error,mean_absolute_error"
      ],
      "execution_count": null,
      "outputs": []
    },
    {
      "cell_type": "code",
      "metadata": {
        "id": "K4KBfM4LZUl3"
      },
      "source": [
        "data = pd.read_csv(\"heart.csv\")"
      ],
      "execution_count": null,
      "outputs": []
    },
    {
      "cell_type": "code",
      "metadata": {
        "id": "z4vk-Rt8Zphz"
      },
      "source": [
        "x = data.iloc[:,:-1]\r\n",
        "y = data.iloc[:,-1]\r\n",
        "\r\n",
        "x_train, x_test, y_train, y_test = train_test_split(x, y, test_size=0.3,random_state=0)"
      ],
      "execution_count": null,
      "outputs": []
    },
    {
      "cell_type": "code",
      "metadata": {
        "id": "6J6QTRhGZuVA"
      },
      "source": [
        "ml = svm.SVC(kernel='linear')\r\n",
        "ml.fit(x_train, y_train)\r\n",
        "predictions = ml.predict(x_test)"
      ],
      "execution_count": null,
      "outputs": []
    },
    {
      "cell_type": "code",
      "metadata": {
        "colab": {
          "base_uri": "https://localhost:8080/"
        },
        "id": "tFe3pP4yQazq",
        "outputId": "0b1bc664-b191-46c6-a3f3-22f5f219ef4e"
      },
      "source": [
        "predictions = ml.predict(x_test)\r\n",
        "print(classification_report(y_test, predictions))\r\n",
        "print(confusion_matrix(y_test, predictions))\r\n",
        "print(accuracy_score(y_test, predictions))#Accuracy\r\n",
        "print(mean_squared_error(y_test, predictions))#MSE  \r\n",
        "print(mean_squared_error(y_test, predictions,squared =False))#RMSE\r\n",
        "print(mean_absolute_error(y_test, predictions))#MAE"
      ],
      "execution_count": null,
      "outputs": [
        {
          "output_type": "stream",
          "text": [
            "              precision    recall  f1-score   support\n",
            "\n",
            "           0       0.86      0.73      0.79        44\n",
            "           1       0.78      0.89      0.83        47\n",
            "\n",
            "    accuracy                           0.81        91\n",
            "   macro avg       0.82      0.81      0.81        91\n",
            "weighted avg       0.82      0.81      0.81        91\n",
            "\n",
            "[[32 12]\n",
            " [ 5 42]]\n",
            "0.8131868131868132\n",
            "0.18681318681318682\n",
            "0.4322189107537832\n",
            "0.18681318681318682\n"
          ],
          "name": "stdout"
        }
      ]
    }
  ]
}